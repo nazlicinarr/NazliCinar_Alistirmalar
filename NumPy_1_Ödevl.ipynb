{
  "nbformat": 4,
  "nbformat_minor": 0,
  "metadata": {
    "colab": {
      "provenance": []
    },
    "kernelspec": {
      "name": "python3",
      "display_name": "Python 3"
    },
    "language_info": {
      "name": "python"
    }
  },
  "cells": [
    {
      "cell_type": "code",
      "source": [
        "# 1) Manuel değerleri el ile girerek 3 boyutlu bir array oluşturup bir değişkene atayın. Ardından 3 boyutlu olup olmadığına bakmak için dimension'ını kontrol edin\n",
        "import numpy as np\n",
        "arr = np.array([[[10,20,30],[40,50,60]],[[70,80,90],[100,110,120]]])\n",
        "arr.ndim"
      ],
      "metadata": {
        "id": "Gauovk2yw838"
      },
      "execution_count": null,
      "outputs": []
    },
    {
      "cell_type": "code",
      "source": [
        "# 2) 34, 40, 46, 52... 112 şeklinde devam eden 1 boyutlu bir array oluşturun.\n",
        "arr = np.arange(34,113,6)\n",
        "arr"
      ],
      "metadata": {
        "id": "LaXpkp6PxzQT"
      },
      "execution_count": null,
      "outputs": []
    },
    {
      "cell_type": "code",
      "source": [
        "# 3) 50-500 arasında lineer artış gösteren 91 tane tam sayıdan oluşan bir array oluşturun.(dtype'ı int olsun)\n",
        "arr = np.linspace(50,500,91, dtype= int)\n",
        "arr"
      ],
      "metadata": {
        "id": "wFiJzicryJU8"
      },
      "execution_count": null,
      "outputs": []
    },
    {
      "cell_type": "code",
      "source": [
        "# 4) 100(10**2) ile 10000(10**5) arasında logaritmik artış gösteren 8 sayıdan oluşan bir array oluşturun.\n",
        "arr = np.logspace(2,5,8)\n",
        "arr"
      ],
      "metadata": {
        "id": "YbzfstwnyiLr"
      },
      "execution_count": null,
      "outputs": []
    },
    {
      "cell_type": "code",
      "source": [
        "# 5) 0-8 tam arasındaki ardışık tam sayılardan oluşan(0 ve 8 dahil toplam 9 değer) 3x3 shape'inde bir matris oluşturun.\n",
        "arr = np.array([[0,1,2],[3,4,5],[6,7,8]])\n",
        "arr"
      ],
      "metadata": {
        "id": "Xfq_RIeTy_qS"
      },
      "execution_count": null,
      "outputs": []
    },
    {
      "cell_type": "code",
      "source": [
        "# 6) 6x6 formatında bir sıfır matrisi oluşturun. (dtype'ı int olsun)\n",
        "arr = np.zeros((6,6),dtype = int)\n",
        "arr"
      ],
      "metadata": {
        "id": "gFDI1bTRziWW"
      },
      "execution_count": null,
      "outputs": []
    },
    {
      "cell_type": "code",
      "source": [
        "# 7) 4x4 formatında bir bir matrisi oluşturun. (dtype'ı int olsun)\n",
        "arr = np.ones((4,4), dtype = int)\n",
        "arr"
      ],
      "metadata": {
        "id": "mXgoRIq005HU"
      },
      "execution_count": null,
      "outputs": []
    },
    {
      "cell_type": "code",
      "source": [
        "# 8) 8x8 formatında bir birim matris oluşturun. (Sadece sol köşegeni 1 geri kalan değerleri 0 olan matris'e birim matris deniyor.) (dtype'ı int olsun)\n",
        "arr = np.eye(8, dtype= int)\n",
        "arr"
      ],
      "metadata": {
        "id": "e4FEJCFV1KqF"
      },
      "execution_count": null,
      "outputs": []
    },
    {
      "cell_type": "code",
      "source": [
        "# 9) 5x5 formatında bir köşegen matrisi oluşturun (Sadece sol üstten sağ alta doğru olan köşegendeki değerleri 3 olsun diğer bütün değerleri 0) (Bunu henüz görmediniz ama birim matrise benziyor,\n",
        "# sadece köşegen değerleri 1 değil 3 olacak. Bir şeyler düşünün)\n",
        "arr = np.array([[3,0,0,0,0],[0,3,0,0,0],[0,0,3,0,0],[0,0,0,3,0],[0,0,0,0,3]])\n",
        "arr"
      ],
      "metadata": {
        "id": "VyhfN7eW1bsq"
      },
      "execution_count": null,
      "outputs": []
    },
    {
      "cell_type": "code",
      "source": [
        "# 10) np.random modülünden uygun fonksiyonu kullanarak 0-1 arasında toplam 6 tane değerden oluşan 1 boyutlu bir array oluşturun.\n",
        "arr = np.random.rand(6)\n",
        "arr"
      ],
      "metadata": {
        "id": "_oln6j7D2GZT"
      },
      "execution_count": null,
      "outputs": []
    },
    {
      "cell_type": "code",
      "source": [
        "# 11) np.random modülünden uygun fonksiyonu kullanarak 50-100 arasındaki(50 ve 100 dahil) tam sayılardan 10 tanesiyle oluşan (5,2) shape'inde bir array oluşturun. Ardından bu arrayin shape'ini kontrol \n",
        "# edin.\n",
        "arr = np.random.randint(50,101,(5,2))\n",
        "arr.shape"
      ],
      "metadata": {
        "id": "BA20t2YH2N10"
      },
      "execution_count": null,
      "outputs": []
    },
    {
      "cell_type": "code",
      "source": [
        "# 12) np.random modülünden uygun fonksiyonu kullanarak 100-1000(1000 dahil değil) arasındaki tam sayılardan rastgele 50 tanesinden oluşan (2,5,5) shape'inde 3 boyutlu bir array oluşturun. \n",
        "# Ardından bu array'in dimension'ını(boyutunu) ve shape'ini kontrol edin.\n",
        "arr = np.random.randint(100,1000,(2,5,5))\n",
        "arr.ndim"
      ],
      "metadata": {
        "id": "4qxbsmEK2Rbq"
      },
      "execution_count": null,
      "outputs": []
    },
    {
      "cell_type": "code",
      "source": [
        "# 13) np.random modülünden uygun fonksiyonu kullanarak 0-100(0 ve 100 dahil) arasındaki tam sayılardan 10 tane seçerek bir array oluşturun. Bu array'in maximum, \n",
        "# mininmum değerlerine ve bu değerlerin indexlerine bakın.\n",
        "arr = np.random.rand(10)*101\n",
        "arr"
      ],
      "metadata": {
        "id": "BEdHoSkZ2bk7"
      },
      "execution_count": null,
      "outputs": []
    },
    {
      "cell_type": "code",
      "source": [
        "arr.max()"
      ],
      "metadata": {
        "id": "6iQeRAwf4Aqe"
      },
      "execution_count": null,
      "outputs": []
    },
    {
      "cell_type": "code",
      "source": [
        "arr.min()"
      ],
      "metadata": {
        "id": "2hnKJe-E4H1T"
      },
      "execution_count": null,
      "outputs": []
    },
    {
      "cell_type": "code",
      "source": [
        "arr.argmax()"
      ],
      "metadata": {
        "id": "a1aGtbnj4Qx4"
      },
      "execution_count": null,
      "outputs": []
    },
    {
      "cell_type": "code",
      "source": [
        "arr.argmin()"
      ],
      "metadata": {
        "id": "SnqYyASU4UK-"
      },
      "execution_count": null,
      "outputs": []
    },
    {
      "cell_type": "code",
      "source": [
        "# 14) np.random modülünden uygun fonksiyonu kullanarak 300-500(300 ve 500 dahil) arasındaki tam sayılardan 20 tane seçerek (2,2,5) shape'inde 3 boyutlu bir array oluşturun. \n",
        "# Ardından bu array'in içindeki 20 tam sayı arasından maximum ve minimum değerleri manuel olarak tespit edin ve indexleme yaparak çekmeye çalışın.\n",
        "arr = np.random.randint(300,501,(2,2,5))\n",
        "arr"
      ],
      "metadata": {
        "id": "stoq7FNH2hr7"
      },
      "execution_count": null,
      "outputs": []
    },
    {
      "cell_type": "code",
      "source": [
        "arr[1][0][1] #max"
      ],
      "metadata": {
        "id": "iAYjEdfV4nvW"
      },
      "execution_count": null,
      "outputs": []
    },
    {
      "cell_type": "code",
      "source": [
        "arr[0][1][0] #min"
      ],
      "metadata": {
        "id": "0Su31sjj5ZQk"
      },
      "execution_count": null,
      "outputs": []
    },
    {
      "cell_type": "code",
      "source": [
        "# 15) 0-50(50 dahil) arasındaki ardışık tam sayılardan oluşan bir array oluşturun. Ardından bu arrayin 20. ve 35. indexleri arasındaki değerleri 500'e eşitleyin ve yeni oluşan array'i ekrana yazdırarak \n",
        "# broadcasting işleminin yapılıp yapılmadığını test edin.\n",
        "arr = np.arange(0,51)\n",
        "arr"
      ],
      "metadata": {
        "id": "kR4EXE-f2oPD"
      },
      "execution_count": null,
      "outputs": []
    },
    {
      "cell_type": "code",
      "source": [
        "arr[20:36]=500\n",
        "arr"
      ],
      "metadata": {
        "id": "-w7zzrJJ5qV9"
      },
      "execution_count": null,
      "outputs": []
    }
  ]
}